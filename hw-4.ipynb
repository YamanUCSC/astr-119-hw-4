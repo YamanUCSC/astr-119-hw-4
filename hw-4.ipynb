{
 "cells": [
  {
   "cell_type": "code",
   "execution_count": null,
   "metadata": {},
   "outputs": [],
   "source": [
    "import numpy as np"
   ]
  },
  {
   "cell_type": "code",
   "execution_count": null,
   "metadata": {},
   "outputs": [],
   "source": [
    "def func(x):\n",
    "    return np.exp(-2*x) * np.cos(10*x)"
   ]
  },
  {
   "cell_type": "markdown",
   "metadata": {},
   "source": [
    "## Trapezoid method "
   ]
  },
  {
   "cell_type": "code",
   "execution_count": null,
   "metadata": {},
   "outputs": [],
   "source": [
    "def trapezoid_core(f, x, h):\n",
    "    return 0.5 * h * (f(x+h) + f(x))\n"
   ]
  },
  {
   "cell_type": "code",
   "execution_count": null,
   "metadata": {},
   "outputs": [],
   "source": [
    "def trapezoid_method(f, a, b, N):\n",
    "    \"\"\"\n",
    "    f   : function \n",
    "    a   : lower bound\n",
    "    b   : upper boound \n",
    "    N.  : number of intervals for integration\"\"\"\n",
    "    \n",
    "    x = np.linspace(a,b, N)\n",
    "    h = x[1] - x[0]\n",
    "    \n",
    "    Fint = 0.0\n",
    "    \n",
    "    for i in range(0, N):\n",
    "        Fint += trapezoid_core(f, x[i], h)\n",
    "        \n",
    "    return Fint "
   ]
  },
  {
   "cell_type": "markdown",
   "metadata": {},
   "source": [
    "## Simpsons Method "
   ]
  },
  {
   "cell_type": "code",
   "execution_count": null,
   "metadata": {},
   "outputs": [],
   "source": [
    "def simpson_core(f,x,h):\n",
    "    return h*( f(x) + 4*f(x+h) + f(x+2*h))/3."
   ]
  },
  {
   "cell_type": "code",
   "execution_count": null,
   "metadata": {},
   "outputs": [],
   "source": [
    "def simpsons_method(f,a,b,N):\n",
    "    # f == function to integrate \n",
    "    # a == lower limit of integration \n",
    "    # b == upper limit of integration \n",
    "    # N == number of fintion evaluations to use \n",
    "    # note the number of chunks will be N-1 \n",
    "    # so if N is odd, then we don tneed to adjust the last segmen t\n",
    "    \n",
    "    x = np.linspace(a,b, N)\n",
    "    h = x[1] - x[0]\n",
    "    \n",
    "    Fint = 0.0\n",
    "    \n",
    "    for i in range(0, N):\n",
    "        Fint += simpson_core(f, x[i], h)\n",
    "        \n",
    "    if((N%2)==0):\n",
    "        Fint += simpson_core(f,x[-2],0.5*h)\n",
    "    \n",
    "    return Fint"
   ]
  },
  {
   "cell_type": "markdown",
   "metadata": {},
   "source": [
    "## Romberg Integral "
   ]
  },
  {
   "cell_type": "code",
   "execution_count": null,
   "metadata": {},
   "outputs": [],
   "source": [
    "def romberg_core(f,a,b,i):\n",
    "    \n",
    "    #we need the difference b-a \n",
    "    h = b-a \n",
    "    \n",
    "    #and the increment between new func evals\n",
    "    dh = h/2.**(i+1)\n",
    "    \n",
    "    #we need the cofactor \n",
    "    K = h/2.**(i+1)\n",
    "    \n",
    "    #and the function evaulations\n",
    "    M = 0.0 \n",
    "    for j in range(2**i):\n",
    "        M += f(a + 0.5*dh + j*dh)\n",
    "        \n",
    "    return K*M"
   ]
  },
  {
   "cell_type": "code",
   "execution_count": null,
   "metadata": {},
   "outputs": [],
   "source": [
    "def romberg_integration(f,a,b,tol):\n",
    "    \n",
    "    i = 0 \n",
    "    \n",
    "    imax = 100000\n",
    "    \n",
    "    delta = 100.0*np.fabs(tol)\n",
    "    \n",
    "    I = np.zeros(imax,dtype=float)\n",
    "    \n",
    "    I[0] = 0.5*(b-a)*(f(a) + f(b))\n",
    "    \n",
    "    i += 1\n",
    "    \n",
    "    while(delta>tol):\n",
    "        \n",
    "        #find this romberg iteration \n",
    "        I[i] = 0.5*I[i-1] + romberg_core(f,a,b,i)\n",
    "        \n",
    "        #compute the new fractional error estimate \n",
    "        delta = np.fabs( (I[i]-I[i-1])/I[i] )\n",
    "        \n",
    "        print(i,I[i],I[i-1],delta)\n",
    "        \n",
    "        if(delta>tol):\n",
    "            \n",
    "            i+=1\n",
    "            \n",
    "            if(i>imax):\n",
    "                print(\"Max iterations reached\")\n",
    "                raise StopIteration( 'Stopping iterations after ', i)\n",
    "                \n",
    "    return I[i]"
   ]
  },
  {
   "cell_type": "markdown",
   "metadata": {},
   "source": [
    "## Calculate Integral "
   ]
  },
  {
   "cell_type": "code",
   "execution_count": null,
   "metadata": {},
   "outputs": [],
   "source": [
    "answer = func_integral(np.pi) - func_integral(0)\n",
    "print(answer)\n",
    "\n",
    "print(\"Trapezoid\")\n",
    "trapz = trapezoid_method(func, 0, np.pi, 100000)\n",
    "print(trapz)\n",
    "print((trapz-answer) / trapz)\n",
    "\n",
    "print(\"Simpson's Method\")\n",
    "simpz = simpsons_method(func, 0, np.pi, 100000)\n",
    "print(simpz)\n",
    "\n",
    "print(\"Romberg\")\n",
    "RI = romberg_integration(func,0,np.pi,100000)\n",
    "print(RI, (RI-answer)/answer, tolerence)"
   ]
  },
  {
   "cell_type": "code",
   "execution_count": null,
   "metadata": {},
   "outputs": [],
   "source": [
    "def func_integral(x):\n",
    "    return -1/52 * np.exp(-2*x) * (np.cos(10*x) - 5*np.sin(10*x))"
   ]
  },
  {
   "cell_type": "code",
   "execution_count": null,
   "metadata": {},
   "outputs": [],
   "source": [
    "answer = func_integral(np.pi) - func_integral(0)\n",
    "print(answer)"
   ]
  },
  {
   "cell_type": "code",
   "execution_count": null,
   "metadata": {},
   "outputs": [],
   "source": [
    "np.linspace(0,1,11)"
   ]
  },
  {
   "cell_type": "code",
   "execution_count": null,
   "metadata": {},
   "outputs": [],
   "source": []
  },
  {
   "cell_type": "code",
   "execution_count": null,
   "metadata": {},
   "outputs": [],
   "source": []
  },
  {
   "cell_type": "code",
   "execution_count": null,
   "metadata": {},
   "outputs": [],
   "source": []
  }
 ],
 "metadata": {
  "kernelspec": {
   "display_name": "Python 3",
   "language": "python",
   "name": "python3"
  },
  "language_info": {
   "codemirror_mode": {
    "name": "ipython",
    "version": 3
   },
   "file_extension": ".py",
   "mimetype": "text/x-python",
   "name": "python",
   "nbconvert_exporter": "python",
   "pygments_lexer": "ipython3",
   "version": "3.6.5"
  }
 },
 "nbformat": 4,
 "nbformat_minor": 2
}
